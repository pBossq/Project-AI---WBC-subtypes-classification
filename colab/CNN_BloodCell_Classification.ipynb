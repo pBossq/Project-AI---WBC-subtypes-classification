{
  "nbformat": 4,
  "nbformat_minor": 0,
  "metadata": {
    "colab": {
      "name": "CNN_BloodCell_Classification.ipynb",
      "provenance": [],
      "collapsed_sections": [],
      "machine_shape": "hm"
    },
    "kernelspec": {
      "display_name": "Python 3",
      "name": "python3"
    },
    "language_info": {
      "name": "python"
    },
    "accelerator": "GPU"
  },
  "cells": [
    {
      "cell_type": "markdown",
      "metadata": {
        "id": "8SJL5uZ_8epi"
      },
      "source": [
        "# **Mapping Drive**"
      ]
    },
    {
      "cell_type": "code",
      "metadata": {
        "colab": {
          "base_uri": "https://localhost:8080/"
        },
        "id": "u0vo5qHFv7Uw",
        "outputId": "30eb611b-7567-484e-9b50-40afdc440278"
      },
      "source": [
        "from google.colab import drive\n",
        "drive.mount('/content/drive')"
      ],
      "execution_count": null,
      "outputs": [
        {
          "output_type": "stream",
          "name": "stdout",
          "text": [
            "Drive already mounted at /content/drive; to attempt to forcibly remount, call drive.mount(\"/content/drive\", force_remount=True).\n"
          ]
        }
      ]
    },
    {
      "cell_type": "markdown",
      "metadata": {
        "id": "cqMX56zY8vjZ"
      },
      "source": [
        "# **Load Data**"
      ]
    },
    {
      "cell_type": "code",
      "metadata": {
        "id": "kQwquuwqXPMr",
        "colab": {
          "base_uri": "https://localhost:8080/"
        },
        "outputId": "c9b6fbd2-5aa0-43bb-c502-d5b0832cf0a8"
      },
      "source": [
        "from keras.preprocessing.image import ImageDataGenerator\n",
        "\n",
        "prefixPath = '/content/drive/MyDrive/Colab Notebooks/BloodCell/';\n",
        "path = prefixPath+'dataset2-master/images/';\n",
        "\n",
        "batch_size = 16\n",
        "height = 320\n",
        "width = 240\n",
        "\n",
        "train_datagen = ImageDataGenerator(rescale=1./255)\n",
        "train_data = train_datagen.flow_from_directory(\n",
        "        path + 'TRAIN',           \n",
        "        target_size=(height, width),\n",
        "        batch_size=batch_size,\n",
        "        class_mode=\"sparse\",\n",
        "        shuffle=True)  \n",
        "\n",
        "test_datagen = ImageDataGenerator(rescale=1./255)\n",
        "validation_data = test_datagen.flow_from_directory(\n",
        "        path+'TEST',\n",
        "        target_size=(height, width),\n",
        "        batch_size=batch_size,\n",
        "        class_mode=\"sparse\",\n",
        "        shuffle=True)\n",
        "\n",
        "evaluation_datagen = ImageDataGenerator(rescale=1./255)\n",
        "evaluation_data = evaluation_datagen.flow_from_directory(\n",
        "        path+'TEST_SIMPLE',\n",
        "        target_size=(height, width),\n",
        "        batch_size=batch_size,\n",
        "        class_mode=\"sparse\",\n",
        "        shuffle=True)"
      ],
      "execution_count": null,
      "outputs": [
        {
          "output_type": "stream",
          "name": "stdout",
          "text": [
            "Found 9957 images belonging to 4 classes.\n",
            "Found 2487 images belonging to 4 classes.\n",
            "Found 71 images belonging to 4 classes.\n"
          ]
        }
      ]
    },
    {
      "cell_type": "code",
      "metadata": {
        "id": "EFF0NkdmO8LB"
      },
      "source": [
        "# len(train_data)\n",
        "# print(len(validation_data[10][0]))\n",
        "# print(validation_data[10][1][0])\n",
        "# print(len(validation_data[0][0][0][0][0]))\n",
        "# print(validation_data.next())"
      ],
      "execution_count": null,
      "outputs": []
    },
    {
      "cell_type": "markdown",
      "metadata": {
        "id": "jxjEk_De-EHr"
      },
      "source": [
        "# **Create the model CNN**"
      ]
    },
    {
      "cell_type": "code",
      "metadata": {
        "colab": {
          "base_uri": "https://localhost:8080/"
        },
        "id": "1yZJncMDWPYV",
        "outputId": "89f2e45a-ffce-4575-b41e-c30c76d0123b"
      },
      "source": [
        "import keras\n",
        "import tensorflow as tf\n",
        "from keras.models import Sequential\n",
        "from keras.layers import Conv2D, MaxPooling2D, Activation, Dropout, Flatten, Dense\n",
        "from tensorflow.keras.layers import BatchNormalization\n",
        "from keras import backend as K\n",
        "from keras import optimizers\n",
        "\n",
        "K.set_image_data_format(\"channels_last\") # Returns the default image dimension ordering convention\n",
        "keras.backend.clear_session()\n",
        "\n",
        "model = Sequential()\n",
        "\n",
        "# Layer 1: Convolutional layer 1\n",
        "model.add(Conv2D(128, (3, 3), padding=\"same\",input_shape=(height, width,3),data_format=\"channels_last\"))\n",
        "model.add(BatchNormalization())\n",
        "model.add(Activation(\"relu\"))\n",
        "\n",
        "#Layer 2: Pooling layer\n",
        "model.add(MaxPooling2D(pool_size=(2, 2), strides=(2,2)))\n",
        "\n",
        "#Layer 3: Convolutional layer 2\n",
        "model.add(Conv2D(128, (3, 3),padding=\"same\"))\n",
        "model.add(Activation(\"relu\"))\n",
        "\n",
        "#Layer 4: Pooling layer\n",
        "model.add(MaxPooling2D(pool_size=(2, 2), strides=(2,2)))\n",
        "\n",
        "#Layer 5: Convolutional layer 3\n",
        "model.add(Conv2D(192, (3, 3), padding=\"same\"))\n",
        "model.add(Activation(\"relu\"))\n",
        "\n",
        "#Layer 6: Pooling layer\n",
        "model.add(MaxPooling2D(pool_size=(2, 2), strides=(2,2)))\n",
        "\n",
        "#Layer 7: Convolutional layer 4\n",
        "model.add(Conv2D(192, (3, 3), padding=\"same\"))\n",
        "model.add(Activation(\"relu\"))\n",
        "\n",
        "#Layer 8: Pooling layer\n",
        "model.add(MaxPooling2D(pool_size=(2, 2), strides=(2,2)))\n",
        "\n",
        "# #Layer 9: Convolutional layer 5\n",
        "model.add(Conv2D(256, (3, 3),padding=\"same\"))\n",
        "model.add(Activation(\"relu\"))\n",
        "\n",
        "#Layer 10: Pooling layer\n",
        "model.add(MaxPooling2D(pool_size=(2, 2), strides=(2,2)))\n",
        "\n",
        "#Layer 11: Convolutional layer 6\n",
        "model.add(Conv2D(256, (3, 3),padding=\"same\"))\n",
        "model.add(Activation(\"relu\"))\n",
        "\n",
        "#Layer 12: Pooling layer\n",
        "model.add(MaxPooling2D(pool_size=(2, 2), strides=(2,2)))\n",
        "\n",
        "#Layer 13: Flatten layer\n",
        "model.add(Flatten())  # this converts our 3D feature maps to 1D feature vectors\n",
        "model.add(Dense(512,activation = \"relu\"))\n",
        "model.add(Dropout(0.2))\n",
        "\n",
        "model.add(Dense(64,activation = \"relu\"))\n",
        "model.add(Dense(4,activation = 'softmax')) # 4 outputs.\n",
        "\n",
        "adam = tf.optimizers.Adam(lr=0.00001)\n",
        "model.compile(loss = \"sparse_categorical_crossentropy\", optimizer = adam, metrics=['accuracy'])\n",
        "\n",
        "# CNN model brief veiw of each layer \n",
        "model.summary()"
      ],
      "execution_count": null,
      "outputs": [
        {
          "output_type": "stream",
          "name": "stdout",
          "text": [
            "Model: \"sequential\"\n",
            "_________________________________________________________________\n",
            " Layer (type)                Output Shape              Param #   \n",
            "=================================================================\n",
            " conv2d (Conv2D)             (None, 320, 240, 128)     3584      \n",
            "                                                                 \n",
            " batch_normalization (BatchN  (None, 320, 240, 128)    512       \n",
            " ormalization)                                                   \n",
            "                                                                 \n",
            " activation (Activation)     (None, 320, 240, 128)     0         \n",
            "                                                                 \n",
            " max_pooling2d (MaxPooling2D  (None, 160, 120, 128)    0         \n",
            " )                                                               \n",
            "                                                                 \n",
            " conv2d_1 (Conv2D)           (None, 160, 120, 128)     147584    \n",
            "                                                                 \n",
            " activation_1 (Activation)   (None, 160, 120, 128)     0         \n",
            "                                                                 \n",
            " max_pooling2d_1 (MaxPooling  (None, 80, 60, 128)      0         \n",
            " 2D)                                                             \n",
            "                                                                 \n",
            " conv2d_2 (Conv2D)           (None, 80, 60, 192)       221376    \n",
            "                                                                 \n",
            " activation_2 (Activation)   (None, 80, 60, 192)       0         \n",
            "                                                                 \n",
            " max_pooling2d_2 (MaxPooling  (None, 40, 30, 192)      0         \n",
            " 2D)                                                             \n",
            "                                                                 \n",
            " conv2d_3 (Conv2D)           (None, 40, 30, 192)       331968    \n",
            "                                                                 \n",
            " activation_3 (Activation)   (None, 40, 30, 192)       0         \n",
            "                                                                 \n",
            " max_pooling2d_3 (MaxPooling  (None, 20, 15, 192)      0         \n",
            " 2D)                                                             \n",
            "                                                                 \n",
            " conv2d_4 (Conv2D)           (None, 20, 15, 256)       442624    \n",
            "                                                                 \n",
            " activation_4 (Activation)   (None, 20, 15, 256)       0         \n",
            "                                                                 \n",
            " max_pooling2d_4 (MaxPooling  (None, 10, 7, 256)       0         \n",
            " 2D)                                                             \n",
            "                                                                 \n",
            " conv2d_5 (Conv2D)           (None, 10, 7, 256)        590080    \n",
            "                                                                 \n",
            " activation_5 (Activation)   (None, 10, 7, 256)        0         \n",
            "                                                                 \n",
            " max_pooling2d_5 (MaxPooling  (None, 5, 3, 256)        0         \n",
            " 2D)                                                             \n",
            "                                                                 \n",
            " flatten (Flatten)           (None, 3840)              0         \n",
            "                                                                 \n",
            " dense (Dense)               (None, 512)               1966592   \n",
            "                                                                 \n",
            " dropout (Dropout)           (None, 512)               0         \n",
            "                                                                 \n",
            " dense_1 (Dense)             (None, 64)                32832     \n",
            "                                                                 \n",
            " dense_2 (Dense)             (None, 4)                 260       \n",
            "                                                                 \n",
            "=================================================================\n",
            "Total params: 3,737,412\n",
            "Trainable params: 3,737,156\n",
            "Non-trainable params: 256\n",
            "_________________________________________________________________\n"
          ]
        },
        {
          "output_type": "stream",
          "name": "stderr",
          "text": [
            "/usr/local/lib/python3.7/dist-packages/keras/optimizer_v2/adam.py:105: UserWarning: The `lr` argument is deprecated, use `learning_rate` instead.\n",
            "  super(Adam, self).__init__(name, **kwargs)\n"
          ]
        }
      ]
    },
    {
      "cell_type": "code",
      "metadata": {
        "colab": {
          "base_uri": "https://localhost:8080/"
        },
        "id": "0PeFQSnFCnz9",
        "outputId": "a6410a25-3434-4036-b65e-9380f877bf77"
      },
      "source": [
        "model.fit(train_data, epochs=100, validation_data=validation_data)"
      ],
      "execution_count": null,
      "outputs": [
        {
          "output_type": "stream",
          "name": "stdout",
          "text": [
            "Epoch 1/100\n",
            "623/623 [==============================] - 2335s 4s/step - loss: 1.3575 - accuracy: 0.3171 - val_loss: 1.2433 - val_accuracy: 0.4230\n",
            "Epoch 2/100\n",
            "623/623 [==============================] - 55s 89ms/step - loss: 1.0971 - accuracy: 0.5066 - val_loss: 0.8897 - val_accuracy: 0.6132\n",
            "Epoch 3/100\n",
            "623/623 [==============================] - 55s 88ms/step - loss: 0.8275 - accuracy: 0.6426 - val_loss: 0.8121 - val_accuracy: 0.6068\n",
            "Epoch 4/100\n",
            "623/623 [==============================] - 55s 88ms/step - loss: 0.6469 - accuracy: 0.7195 - val_loss: 0.6371 - val_accuracy: 0.7346\n",
            "Epoch 5/100\n",
            "623/623 [==============================] - 55s 88ms/step - loss: 0.5002 - accuracy: 0.7899 - val_loss: 0.5878 - val_accuracy: 0.7423\n",
            "Epoch 6/100\n",
            "623/623 [==============================] - 55s 88ms/step - loss: 0.3997 - accuracy: 0.8364 - val_loss: 0.5417 - val_accuracy: 0.7941\n",
            "Epoch 7/100\n",
            "623/623 [==============================] - 55s 88ms/step - loss: 0.3276 - accuracy: 0.8677 - val_loss: 0.5260 - val_accuracy: 0.7797\n",
            "Epoch 8/100\n",
            "623/623 [==============================] - 55s 88ms/step - loss: 0.2611 - accuracy: 0.8980 - val_loss: 0.5110 - val_accuracy: 0.7957\n",
            "Epoch 9/100\n",
            "623/623 [==============================] - 55s 89ms/step - loss: 0.2233 - accuracy: 0.9145 - val_loss: 0.5565 - val_accuracy: 0.8030\n",
            "Epoch 10/100\n",
            "623/623 [==============================] - 55s 88ms/step - loss: 0.1859 - accuracy: 0.9300 - val_loss: 0.5162 - val_accuracy: 0.7893\n",
            "Epoch 11/100\n",
            "623/623 [==============================] - 55s 88ms/step - loss: 0.1654 - accuracy: 0.9399 - val_loss: 0.4540 - val_accuracy: 0.7990\n",
            "Epoch 12/100\n",
            "623/623 [==============================] - 55s 88ms/step - loss: 0.1426 - accuracy: 0.9479 - val_loss: 0.4251 - val_accuracy: 0.8058\n",
            "Epoch 13/100\n",
            "623/623 [==============================] - 55s 88ms/step - loss: 0.1169 - accuracy: 0.9581 - val_loss: 0.5355 - val_accuracy: 0.7901\n",
            "Epoch 14/100\n",
            "623/623 [==============================] - 55s 88ms/step - loss: 0.1043 - accuracy: 0.9625 - val_loss: 0.7134 - val_accuracy: 0.8094\n",
            "Epoch 15/100\n",
            "623/623 [==============================] - 55s 88ms/step - loss: 0.0890 - accuracy: 0.9689 - val_loss: 0.5681 - val_accuracy: 0.8162\n",
            "Epoch 16/100\n",
            "623/623 [==============================] - 55s 88ms/step - loss: 0.0727 - accuracy: 0.9769 - val_loss: 0.6129 - val_accuracy: 0.8134\n",
            "Epoch 17/100\n",
            "623/623 [==============================] - 55s 89ms/step - loss: 0.0627 - accuracy: 0.9805 - val_loss: 0.4520 - val_accuracy: 0.8380\n",
            "Epoch 18/100\n",
            "623/623 [==============================] - 55s 88ms/step - loss: 0.0568 - accuracy: 0.9802 - val_loss: 0.6556 - val_accuracy: 0.8102\n",
            "Epoch 19/100\n",
            "623/623 [==============================] - 55s 88ms/step - loss: 0.0479 - accuracy: 0.9838 - val_loss: 0.8318 - val_accuracy: 0.8130\n",
            "Epoch 20/100\n",
            "623/623 [==============================] - 55s 89ms/step - loss: 0.0476 - accuracy: 0.9856 - val_loss: 0.6928 - val_accuracy: 0.8195\n",
            "Epoch 21/100\n",
            "623/623 [==============================] - 55s 88ms/step - loss: 0.0404 - accuracy: 0.9870 - val_loss: 0.7842 - val_accuracy: 0.8102\n",
            "Epoch 22/100\n",
            "623/623 [==============================] - 55s 88ms/step - loss: 0.0323 - accuracy: 0.9905 - val_loss: 0.7048 - val_accuracy: 0.8146\n",
            "Epoch 23/100\n",
            "623/623 [==============================] - 55s 88ms/step - loss: 0.0290 - accuracy: 0.9930 - val_loss: 0.7718 - val_accuracy: 0.8098\n",
            "Epoch 24/100\n",
            "623/623 [==============================] - 55s 88ms/step - loss: 0.0314 - accuracy: 0.9898 - val_loss: 0.7480 - val_accuracy: 0.8158\n",
            "Epoch 25/100\n",
            "623/623 [==============================] - 55s 89ms/step - loss: 0.0224 - accuracy: 0.9942 - val_loss: 0.6851 - val_accuracy: 0.8255\n",
            "Epoch 26/100\n",
            "623/623 [==============================] - 55s 89ms/step - loss: 0.0269 - accuracy: 0.9922 - val_loss: 0.7092 - val_accuracy: 0.8227\n",
            "Epoch 27/100\n",
            "623/623 [==============================] - 55s 88ms/step - loss: 0.0212 - accuracy: 0.9941 - val_loss: 0.9643 - val_accuracy: 0.8239\n",
            "Epoch 28/100\n",
            "623/623 [==============================] - 55s 88ms/step - loss: 0.0205 - accuracy: 0.9940 - val_loss: 0.7118 - val_accuracy: 0.8247\n",
            "Epoch 29/100\n",
            "623/623 [==============================] - 55s 88ms/step - loss: 0.0139 - accuracy: 0.9968 - val_loss: 0.9540 - val_accuracy: 0.8275\n",
            "Epoch 30/100\n",
            "623/623 [==============================] - 55s 88ms/step - loss: 0.0121 - accuracy: 0.9974 - val_loss: 0.9748 - val_accuracy: 0.8327\n",
            "Epoch 31/100\n",
            "623/623 [==============================] - 55s 88ms/step - loss: 0.0175 - accuracy: 0.9953 - val_loss: 0.7882 - val_accuracy: 0.8082\n",
            "Epoch 32/100\n",
            "623/623 [==============================] - 55s 88ms/step - loss: 0.0170 - accuracy: 0.9953 - val_loss: 1.0086 - val_accuracy: 0.8279\n",
            "Epoch 33/100\n",
            "623/623 [==============================] - 55s 88ms/step - loss: 0.0138 - accuracy: 0.9954 - val_loss: 0.7613 - val_accuracy: 0.8323\n",
            "Epoch 34/100\n",
            "623/623 [==============================] - 55s 88ms/step - loss: 0.0095 - accuracy: 0.9977 - val_loss: 0.8707 - val_accuracy: 0.7849\n",
            "Epoch 35/100\n",
            "623/623 [==============================] - 55s 88ms/step - loss: 0.0071 - accuracy: 0.9987 - val_loss: 0.9482 - val_accuracy: 0.8179\n",
            "Epoch 36/100\n",
            "623/623 [==============================] - 55s 88ms/step - loss: 0.0175 - accuracy: 0.9948 - val_loss: 1.0630 - val_accuracy: 0.8219\n",
            "Epoch 37/100\n",
            "623/623 [==============================] - 55s 89ms/step - loss: 0.0087 - accuracy: 0.9980 - val_loss: 1.0818 - val_accuracy: 0.8396\n",
            "Epoch 38/100\n",
            "623/623 [==============================] - 55s 89ms/step - loss: 0.0079 - accuracy: 0.9983 - val_loss: 1.1335 - val_accuracy: 0.7917\n",
            "Epoch 39/100\n",
            "623/623 [==============================] - 55s 89ms/step - loss: 0.0165 - accuracy: 0.9944 - val_loss: 0.8897 - val_accuracy: 0.8291\n",
            "Epoch 40/100\n",
            "623/623 [==============================] - 55s 88ms/step - loss: 0.0186 - accuracy: 0.9949 - val_loss: 0.6576 - val_accuracy: 0.8609\n",
            "Epoch 41/100\n",
            "623/623 [==============================] - 55s 89ms/step - loss: 0.0088 - accuracy: 0.9980 - val_loss: 0.7997 - val_accuracy: 0.8311\n",
            "Epoch 42/100\n",
            "623/623 [==============================] - 56s 89ms/step - loss: 0.0073 - accuracy: 0.9984 - val_loss: 0.9478 - val_accuracy: 0.8295\n",
            "Epoch 43/100\n",
            "623/623 [==============================] - 55s 88ms/step - loss: 0.0119 - accuracy: 0.9964 - val_loss: 1.8744 - val_accuracy: 0.7443\n",
            "Epoch 44/100\n",
            "623/623 [==============================] - 55s 88ms/step - loss: 0.0092 - accuracy: 0.9986 - val_loss: 0.7030 - val_accuracy: 0.8307\n",
            "Epoch 45/100\n",
            "623/623 [==============================] - 55s 88ms/step - loss: 0.0027 - accuracy: 0.9996 - val_loss: 1.1923 - val_accuracy: 0.8251\n",
            "Epoch 46/100\n",
            "623/623 [==============================] - 55s 88ms/step - loss: 0.0082 - accuracy: 0.9972 - val_loss: 1.0713 - val_accuracy: 0.8243\n",
            "Epoch 47/100\n",
            "623/623 [==============================] - 56s 91ms/step - loss: 0.0117 - accuracy: 0.9961 - val_loss: 0.9868 - val_accuracy: 0.8291\n",
            "Epoch 48/100\n",
            "623/623 [==============================] - 55s 89ms/step - loss: 0.0024 - accuracy: 0.9996 - val_loss: 0.9807 - val_accuracy: 0.8239\n",
            "Epoch 49/100\n",
            "623/623 [==============================] - 55s 88ms/step - loss: 0.0044 - accuracy: 0.9987 - val_loss: 1.2618 - val_accuracy: 0.8271\n",
            "Epoch 50/100\n",
            "623/623 [==============================] - 55s 89ms/step - loss: 0.0134 - accuracy: 0.9956 - val_loss: 0.9188 - val_accuracy: 0.8388\n",
            "Epoch 51/100\n",
            "623/623 [==============================] - 55s 89ms/step - loss: 0.0042 - accuracy: 0.9988 - val_loss: 1.1216 - val_accuracy: 0.8339\n",
            "Epoch 52/100\n",
            "623/623 [==============================] - 55s 89ms/step - loss: 0.0071 - accuracy: 0.9980 - val_loss: 1.0915 - val_accuracy: 0.8359\n",
            "Epoch 53/100\n",
            "623/623 [==============================] - 55s 88ms/step - loss: 0.0066 - accuracy: 0.9982 - val_loss: 1.2371 - val_accuracy: 0.8287\n",
            "Epoch 54/100\n",
            "623/623 [==============================] - 55s 89ms/step - loss: 0.0027 - accuracy: 0.9994 - val_loss: 0.9196 - val_accuracy: 0.8412\n",
            "Epoch 55/100\n",
            "623/623 [==============================] - 55s 88ms/step - loss: 0.0052 - accuracy: 0.9989 - val_loss: 1.1598 - val_accuracy: 0.8283\n",
            "Epoch 56/100\n",
            "623/623 [==============================] - 55s 88ms/step - loss: 0.0186 - accuracy: 0.9937 - val_loss: 0.9418 - val_accuracy: 0.8279\n",
            "Epoch 57/100\n",
            "623/623 [==============================] - 55s 88ms/step - loss: 0.0024 - accuracy: 0.9998 - val_loss: 1.1132 - val_accuracy: 0.8347\n",
            "Epoch 58/100\n",
            "623/623 [==============================] - 55s 88ms/step - loss: 0.0020 - accuracy: 0.9995 - val_loss: 1.1670 - val_accuracy: 0.8307\n",
            "Epoch 59/100\n",
            "623/623 [==============================] - 55s 88ms/step - loss: 0.0151 - accuracy: 0.9959 - val_loss: 1.2419 - val_accuracy: 0.8179\n",
            "Epoch 60/100\n",
            "623/623 [==============================] - 55s 88ms/step - loss: 0.0059 - accuracy: 0.9985 - val_loss: 1.1001 - val_accuracy: 0.8331\n",
            "Epoch 61/100\n",
            "623/623 [==============================] - 55s 88ms/step - loss: 0.0013 - accuracy: 0.9999 - val_loss: 1.4099 - val_accuracy: 0.8291\n",
            "Epoch 62/100\n",
            "623/623 [==============================] - 55s 88ms/step - loss: 0.0013 - accuracy: 0.9997 - val_loss: 1.1001 - val_accuracy: 0.8311\n",
            "Epoch 63/100\n",
            "623/623 [==============================] - 55s 88ms/step - loss: 0.0125 - accuracy: 0.9958 - val_loss: 1.2079 - val_accuracy: 0.8299\n",
            "Epoch 64/100\n",
            "623/623 [==============================] - 55s 88ms/step - loss: 0.0037 - accuracy: 0.9986 - val_loss: 1.2235 - val_accuracy: 0.8347\n",
            "Epoch 65/100\n",
            "623/623 [==============================] - 55s 88ms/step - loss: 0.0044 - accuracy: 0.9987 - val_loss: 1.0009 - val_accuracy: 0.8424\n",
            "Epoch 66/100\n",
            "623/623 [==============================] - 55s 88ms/step - loss: 0.0033 - accuracy: 0.9993 - val_loss: 0.5975 - val_accuracy: 0.8561\n",
            "Epoch 67/100\n",
            "623/623 [==============================] - 55s 88ms/step - loss: 0.0099 - accuracy: 0.9965 - val_loss: 1.0483 - val_accuracy: 0.8363\n",
            "Epoch 68/100\n",
            "623/623 [==============================] - 55s 88ms/step - loss: 0.0025 - accuracy: 0.9995 - val_loss: 1.1649 - val_accuracy: 0.8343\n",
            "Epoch 69/100\n",
            "623/623 [==============================] - 55s 88ms/step - loss: 5.1084e-04 - accuracy: 1.0000 - val_loss: 1.1855 - val_accuracy: 0.8388\n",
            "Epoch 70/100\n",
            "623/623 [==============================] - 55s 88ms/step - loss: 4.0015e-04 - accuracy: 1.0000 - val_loss: 1.2439 - val_accuracy: 0.8335\n",
            "Epoch 71/100\n",
            "623/623 [==============================] - 55s 88ms/step - loss: 0.0086 - accuracy: 0.9973 - val_loss: 1.2499 - val_accuracy: 0.8303\n",
            "Epoch 72/100\n",
            "623/623 [==============================] - 55s 88ms/step - loss: 0.0037 - accuracy: 0.9987 - val_loss: 0.9066 - val_accuracy: 0.8376\n",
            "Epoch 73/100\n",
            "623/623 [==============================] - 55s 88ms/step - loss: 0.0012 - accuracy: 0.9999 - val_loss: 1.1974 - val_accuracy: 0.8271\n",
            "Epoch 74/100\n",
            "623/623 [==============================] - 55s 88ms/step - loss: 0.0077 - accuracy: 0.9981 - val_loss: 1.1093 - val_accuracy: 0.8311\n",
            "Epoch 75/100\n",
            "623/623 [==============================] - 55s 88ms/step - loss: 0.0021 - accuracy: 0.9993 - val_loss: 1.1276 - val_accuracy: 0.8372\n",
            "Epoch 76/100\n",
            "623/623 [==============================] - 55s 88ms/step - loss: 9.3773e-04 - accuracy: 1.0000 - val_loss: 1.1662 - val_accuracy: 0.8343\n",
            "Epoch 77/100\n",
            "623/623 [==============================] - 55s 88ms/step - loss: 0.0148 - accuracy: 0.9964 - val_loss: 1.1797 - val_accuracy: 0.8339\n",
            "Epoch 78/100\n",
            "623/623 [==============================] - 55s 88ms/step - loss: 0.0020 - accuracy: 0.9997 - val_loss: 1.2711 - val_accuracy: 0.8384\n",
            "Epoch 79/100\n",
            "623/623 [==============================] - 55s 88ms/step - loss: 8.3501e-04 - accuracy: 1.0000 - val_loss: 1.1287 - val_accuracy: 0.8412\n",
            "Epoch 80/100\n",
            "623/623 [==============================] - 55s 88ms/step - loss: 4.3932e-04 - accuracy: 1.0000 - val_loss: 1.4510 - val_accuracy: 0.8500\n",
            "Epoch 81/100\n",
            "623/623 [==============================] - 55s 88ms/step - loss: 0.0129 - accuracy: 0.9954 - val_loss: 1.1059 - val_accuracy: 0.8452\n",
            "Epoch 82/100\n",
            "623/623 [==============================] - 55s 88ms/step - loss: 0.0011 - accuracy: 1.0000 - val_loss: 1.2936 - val_accuracy: 0.8424\n",
            "Epoch 83/100\n",
            "623/623 [==============================] - 55s 88ms/step - loss: 0.0018 - accuracy: 0.9996 - val_loss: 1.5878 - val_accuracy: 0.8351\n",
            "Epoch 84/100\n",
            "623/623 [==============================] - 55s 88ms/step - loss: 0.0035 - accuracy: 0.9988 - val_loss: 1.1174 - val_accuracy: 0.8404\n",
            "Epoch 85/100\n",
            "623/623 [==============================] - 55s 88ms/step - loss: 0.0061 - accuracy: 0.9982 - val_loss: 1.0327 - val_accuracy: 0.8158\n",
            "Epoch 86/100\n",
            "623/623 [==============================] - 55s 88ms/step - loss: 0.0016 - accuracy: 0.9998 - val_loss: 1.2383 - val_accuracy: 0.8416\n",
            "Epoch 87/100\n",
            "623/623 [==============================] - 55s 88ms/step - loss: 6.5274e-04 - accuracy: 0.9999 - val_loss: 0.9508 - val_accuracy: 0.8468\n",
            "Epoch 88/100\n",
            "623/623 [==============================] - 55s 88ms/step - loss: 0.0039 - accuracy: 0.9989 - val_loss: 1.7963 - val_accuracy: 0.8227\n",
            "Epoch 89/100\n",
            "623/623 [==============================] - 55s 88ms/step - loss: 0.0085 - accuracy: 0.9969 - val_loss: 1.2680 - val_accuracy: 0.8424\n",
            "Epoch 90/100\n",
            "623/623 [==============================] - 55s 88ms/step - loss: 5.3792e-04 - accuracy: 1.0000 - val_loss: 1.3304 - val_accuracy: 0.8428\n",
            "Epoch 91/100\n",
            "623/623 [==============================] - 55s 88ms/step - loss: 4.3972e-04 - accuracy: 1.0000 - val_loss: 1.3598 - val_accuracy: 0.8468\n",
            "Epoch 92/100\n",
            "623/623 [==============================] - 55s 88ms/step - loss: 8.6742e-04 - accuracy: 0.9998 - val_loss: 1.2979 - val_accuracy: 0.8404\n",
            "Epoch 93/100\n",
            "623/623 [==============================] - 55s 88ms/step - loss: 0.0122 - accuracy: 0.9966 - val_loss: 1.1776 - val_accuracy: 0.8420\n",
            "Epoch 94/100\n",
            "623/623 [==============================] - 55s 88ms/step - loss: 7.5809e-04 - accuracy: 0.9999 - val_loss: 1.1312 - val_accuracy: 0.8368\n",
            "Epoch 95/100\n",
            "623/623 [==============================] - 55s 88ms/step - loss: 3.2050e-04 - accuracy: 1.0000 - val_loss: 1.2573 - val_accuracy: 0.8384\n",
            "Epoch 96/100\n",
            "623/623 [==============================] - 55s 88ms/step - loss: 0.0049 - accuracy: 0.9981 - val_loss: 1.2086 - val_accuracy: 0.8347\n",
            "Epoch 97/100\n",
            "623/623 [==============================] - 55s 88ms/step - loss: 9.5678e-04 - accuracy: 0.9998 - val_loss: 1.5353 - val_accuracy: 0.8396\n",
            "Epoch 98/100\n",
            "623/623 [==============================] - 56s 89ms/step - loss: 0.0088 - accuracy: 0.9977 - val_loss: 1.2383 - val_accuracy: 0.8452\n",
            "Epoch 99/100\n",
            "623/623 [==============================] - 55s 88ms/step - loss: 9.5100e-04 - accuracy: 1.0000 - val_loss: 1.2492 - val_accuracy: 0.8363\n",
            "Epoch 100/100\n",
            "623/623 [==============================] - 55s 88ms/step - loss: 4.3321e-04 - accuracy: 1.0000 - val_loss: 1.1819 - val_accuracy: 0.8408\n"
          ]
        },
        {
          "output_type": "execute_result",
          "data": {
            "text/plain": [
              "<keras.callbacks.History at 0x7efd61212850>"
            ]
          },
          "metadata": {},
          "execution_count": 12
        }
      ]
    },
    {
      "cell_type": "code",
      "metadata": {
        "id": "mWaXviqKV_jK",
        "colab": {
          "base_uri": "https://localhost:8080/"
        },
        "outputId": "593a15b2-9898-43e6-f356-e5fa4d443bcd"
      },
      "source": [
        "# Evaluate on Validation data\n",
        "scores = model.evaluate(validation_data)\n",
        "print(\"%s%s: %.2f%%\" % (\"evaluate \",model.metrics_names[1], scores[1]*100))"
      ],
      "execution_count": null,
      "outputs": [
        {
          "output_type": "stream",
          "name": "stdout",
          "text": [
            "156/156 [==============================] - 10s 64ms/step - loss: 1.1819 - accuracy: 0.8408\n",
            "evaluate accuracy: 84.08%\n"
          ]
        }
      ]
    },
    {
      "cell_type": "markdown",
      "metadata": {
        "id": "XsSaDR_4oDJU"
      },
      "source": [
        "# **Convert เพื่อไป Load ใช้งานบน Web Browser**"
      ]
    },
    {
      "cell_type": "code",
      "metadata": {
        "id": "5ADGKnc1kxTj"
      },
      "source": [
        "!pip install tensorflowjs\n",
        "import tensorflowjs as tfjs\n",
        "\n",
        "tfjs.converters.save_keras_model(model, prefixPath + \"BloodCell_Model\")"
      ],
      "execution_count": null,
      "outputs": []
    }
  ]
}